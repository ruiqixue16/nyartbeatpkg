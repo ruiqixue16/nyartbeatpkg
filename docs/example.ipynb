{
    "cells": [
        {
            "cell_type": "markdown",
            "metadata": {},
            "source": [
                "# Example usage\n",
                "\n",
                "To use `nyartbeatpkg` in a project:"
            ]
        },
        {
            "cell_type": "code",
            "execution_count": null,
            "metadata": {},
            "outputs": [],
            "source": [
                "import nyartbeatpkg\n",
                "\n",
                "print(nyartbeatpkg.__version__)"
            ]
        },
        {
            "cell_type": "markdown",
            "metadata": {},
            "source": [
                "To use `request_url` from nyartbeatpkg in a project:"
            ]
        },
        {
            "cell_type": "code",
            "execution_count": null,
            "metadata": {},
            "outputs": [],
            "source": [
                "url = [\"http://www.nyartbeat.com/list/event_type_3D_furniture.en.xml\"]\n",
                "nyartbeatpkg.request_url(url)"
            ]
        },
        {
            "cell_type": "markdown",
            "metadata": {},
            "source": [
                "To use `transform`, and `transform_clean` from nyartbeatpkg in a project:"
            ]
        },
        {
            "cell_type": "code",
            "execution_count": null,
            "metadata": {},
            "outputs": [],
            "source": [
                "url = [\"http://www.nyartbeat.com/list/event_type_3D_furniture.en.xml\"]\n",
                "nyartbeatpkg.transform(url)\n",
                "nyartbeatpkg.transform_clean(url)"
            ]
        },
        {
            "cell_type": "markdown",
            "metadata": {},
            "source": [
                "To use `get_event_info` from nyartbeatpkg to get the matching event information:"
            ]
        },
        {
            "cell_type": "code",
            "execution_count": null,
            "metadata": {},
            "outputs": [],
            "source": [
                "url = [\"http://www.nyartbeat.com/list/event_type_3D_furniture.en.xml\"]\n",
                "nyartbeatpkg.get_event_info(nyartbeatpkg.transform_clean(url))"
            ]
        },
        {
            "cell_type": "markdown",
            "metadata": {},
            "source": [
                "To use `get_current_event_info` from nyartbeatpkg to get the matching event information:"
            ]
        },
        {
            "cell_type": "code",
            "execution_count": null,
            "metadata": {},
            "outputs": [],
            "source": [
                "url = [\"http://www.nyartbeat.com/list/event_type_3D_furniture.en.xml\"]\n",
                "nyartbeatpkg.get_current_event_info(nyartbeatpkg.transform_clean(url))"
            ]
        }
    ],
    "metadata": {
        "kernelspec": {
            "display_name": "Python 3.10.8 64-bit",
            "language": "python",
            "name": "python3"
        },
        "language_info": {
            "codemirror_mode": {
                "name": "ipython",
                "version": 3
            },
            "file_extension": ".py",
            "mimetype": "text/x-python",
            "name": "python",
            "nbconvert_exporter": "python",
            "pygments_lexer": "ipython3",
            "version": "3.10.8"
        },
        "vscode": {
            "interpreter": {
                "hash": "b0fa6594d8f4cbf19f97940f81e996739fb7646882a419484c72d19e05852a7e"
            }
        }
    },
    "nbformat": 4,
    "nbformat_minor": 4
}
